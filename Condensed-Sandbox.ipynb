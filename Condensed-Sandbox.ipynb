{
 "cells": [
  {
   "cell_type": "code",
   "execution_count": null,
   "metadata": {},
   "outputs": [],
   "source": [
    "import czifile\n",
    "import numpy as np\n",
    "\n",
    "import skimage.io\n",
    "import skimage.filters\n",
    "import skimage.feature\n",
    "import skimage.morphology\n",
    "\n",
    "import scipy\n",
    "\n",
    "import bebi103\n",
    "\n",
    "import holoviews as hv\n",
    "hv.extension('bokeh')\n",
    "import colorcet\n",
    "\n",
    "import bokeh.io\n",
    "bokeh.io.output_notebook()"
   ]
  },
  {
   "cell_type": "code",
   "execution_count": null,
   "metadata": {},
   "outputs": [],
   "source": [
    "def show_two_ims(\n",
    "    im_1,\n",
    "    im_2,\n",
    "    titles=[None, None],\n",
    "    interpixel_distances=[0.13, 0.13],\n",
    "    cmap=None,\n",
    "):\n",
    "    \"\"\"Convenient function for showing two images side by side.\"\"\"\n",
    "    p_1 = bebi103.image.imshow(\n",
    "        im_1,\n",
    "        frame_height=200,\n",
    "        title=titles[0],\n",
    "        cmap=cmap,\n",
    "        interpixel_distance=interpixel_distances[0],\n",
    "        length_units=\"µm\",\n",
    "    )\n",
    "    p_2 = bebi103.image.imshow(\n",
    "        im_2,\n",
    "        frame_height=200,\n",
    "        title=titles[1],\n",
    "        cmap=cmap,\n",
    "        interpixel_distance=interpixel_distances[1],\n",
    "        length_units=\"µm\",\n",
    "    )\n",
    "    p_2.x_range = p_1.x_range\n",
    "    p_2.y_range = p_1.y_range\n",
    "\n",
    "    return bokeh.layouts.gridplot([p_1, p_2], ncols=2)\n",
    "\n",
    "def dapi_sort(image):\n",
    "    return image[0,0,0,0,:,:,:,0]\n",
    "\n",
    "def image_reducer(filepath, zoom):\n",
    "    img = czifile.imread(filepath)\n",
    "    img = dapi_sort(img)\n",
    "    img = np.sum(img, 0)\n",
    "    \n",
    "    return img[zoom]\n",
    "        \n",
    "zoom1 = np.s_[1500:3000, :1500]"
   ]
  },
  {
   "cell_type": "code",
   "execution_count": null,
   "metadata": {},
   "outputs": [],
   "source": [
    "im1 = image_reducer('20.02.15_DAPI-seg-1.czi', zoom1)\n",
    "\n",
    "im1.shape"
   ]
  },
  {
   "cell_type": "code",
   "execution_count": null,
   "metadata": {},
   "outputs": [],
   "source": [
    "hv.Image(im1\n",
    ").opts(\n",
    "    height = 500,\n",
    "    width = 500,\n",
    "    cmap = 'viridis')"
   ]
  },
  {
   "cell_type": "code",
   "execution_count": null,
   "metadata": {},
   "outputs": [],
   "source": [
    "# Convert image to float\n",
    "im_float = (im1.astype(float) - im1.min()) / (im1.max() - im1.min())"
   ]
  },
  {
   "cell_type": "code",
   "execution_count": null,
   "metadata": {},
   "outputs": [],
   "source": [
    "# Compute LoG\n",
    "im_LoG = scipy.ndimage.filters.gaussian_laplace(im_float, 20)\n",
    "\n",
    "# Check out results\n",
    "bokeh.io.show(\n",
    "    bebi103.image.imshow(\n",
    "        im_LoG,\n",
    "        cmap=colorcet.coolwarm,\n",
    "        interpixel_distance=0.65,\n",
    "        length_units=\"µm\",\n",
    "        colorbar=True,\n",
    "    )\n",
    ")"
   ]
  },
  {
   "cell_type": "code",
   "execution_count": null,
   "metadata": {},
   "outputs": [],
   "source": [
    "selem = skimage.morphology.square(20)\n",
    "\n",
    "# Do max filter and min filter\n",
    "im_LoG_max = scipy.ndimage.filters.maximum_filter(im_LoG, footprint=selem)\n",
    "im_LoG_min = scipy.ndimage.filters.minimum_filter(im_LoG, footprint=selem)\n",
    "\n",
    "# Image of zero-crossings\n",
    "im_edge = ((im_LoG >= 0) & (im_LoG_min < 0)) | ((im_LoG <= 0) & (im_LoG_max > 0))\n",
    "\n",
    "# Show result\n",
    "bokeh.io.show(show_two_ims(im_float, im_edge, titles=[\"original\", \"edges\"]))"
   ]
  },
  {
   "cell_type": "code",
   "execution_count": null,
   "metadata": {},
   "outputs": [],
   "source": [
    "def zero_crossing_filter(im, thresh):\n",
    "    \"\"\"\n",
    "    Returns image with 1 if there is a zero crossing and 0 otherwise.\n",
    "\n",
    "    thresh is the the minimal value of the gradient, as computed by Sobel\n",
    "    filter, at crossing to count as a crossing.\n",
    "    \"\"\"\n",
    "    # Square structuring element\n",
    "    selem = skimage.morphology.square(3)\n",
    "\n",
    "    # Do max filter and min filter\n",
    "    im_max = scipy.ndimage.filters.maximum_filter(im, footprint=selem)\n",
    "    im_min = scipy.ndimage.filters.minimum_filter(im, footprint=selem)\n",
    "\n",
    "    # Compute gradients using Sobel filter\n",
    "    im_grad = skimage.filters.sobel(im)\n",
    "\n",
    "    # Return edges\n",
    "    return ( (  ((im >= 0) & (im_min < 0))\n",
    "              | ((im <= 0) & (im_max > 0)))\n",
    "            & (im_grad >= thresh) )"
   ]
  },
  {
   "cell_type": "code",
   "execution_count": null,
   "metadata": {},
   "outputs": [],
   "source": [
    "# Find zero-crossings\n",
    "im_edge = zero_crossing_filter(im_LoG, 0.000001)\n",
    "\n",
    "# Show result\n",
    "bokeh.io.show(show_two_ims(im_float, im_edge, titles=[\"original\", \"edges\"]))"
   ]
  },
  {
   "cell_type": "code",
   "execution_count": null,
   "metadata": {},
   "outputs": [],
   "source": [
    "# Fill holes\n",
    "im_bw = scipy.ndimage.morphology.binary_fill_holes(im_edge)\n",
    "\n",
    "# Remove small objectes that are not bacteria\n",
    "im_bw = skimage.morphology.remove_small_objects(im_bw, min_size=1000)\n",
    "\n",
    "# Show result\n",
    "bokeh.io.show(\n",
    "    show_two_ims(im_float, im_bw, titles=[\"original\", \"segmented\"])\n",
    ")"
   ]
  },
  {
   "cell_type": "code",
   "execution_count": null,
   "metadata": {},
   "outputs": [],
   "source": [
    "im_labeled, n_labels = skimage.measure.label(im_bw, background=0, return_num=True)\n",
    "\n",
    "# Show number of nuclei\n",
    "print(\"Number of individual nuclei = \", n_labels)\n",
    "\n",
    "# See result (one of the few times it's ok to use rainbow colormap!)\n",
    "bokeh.io.show(\n",
    "    bebi103.image.imshow(\n",
    "        im_labeled, cmap=colorcet.b_glasbey_hv, interpixel_distance=0.65, length_units=\"µm\"\n",
    "    )\n",
    ")"
   ]
  },
  {
   "cell_type": "code",
   "execution_count": null,
   "metadata": {},
   "outputs": [],
   "source": []
  }
 ],
 "metadata": {
  "kernelspec": {
   "display_name": "Python 3",
   "language": "python",
   "name": "python3"
  },
  "language_info": {
   "codemirror_mode": {
    "name": "ipython",
    "version": 3
   },
   "file_extension": ".py",
   "mimetype": "text/x-python",
   "name": "python",
   "nbconvert_exporter": "python",
   "pygments_lexer": "ipython3",
   "version": "3.7.4"
  }
 },
 "nbformat": 4,
 "nbformat_minor": 4
}
