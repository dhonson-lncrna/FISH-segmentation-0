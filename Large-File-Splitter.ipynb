{
 "cells": [
  {
   "cell_type": "code",
   "execution_count": null,
   "metadata": {},
   "outputs": [],
   "source": [
    "import czifile\n",
    "import numpy as np\n",
    "\n",
    "import bebi103\n",
    "\n",
    "import holoviews as hv\n",
    "hv.extension('bokeh')\n",
    "import colorcet\n",
    "\n",
    "import bokeh.io\n",
    "bokeh.io.output_notebook()"
   ]
  },
  {
   "cell_type": "code",
   "execution_count": null,
   "metadata": {},
   "outputs": [],
   "source": [
    "def dapi_sort(img):\n",
    "    '''Reduces dimensions of dapi images to DAPI channel and z-stacks'''\n",
    "    return img[0,0,0,0,:,:,:,0]\n",
    "\n",
    "def image_reducer(filepath, zoom):\n",
    "    '''Reduces the size of an inputed image'''\n",
    "    # Read czi file\n",
    "    img = czifile.imread(filepath)\n",
    "    \n",
    "    # Get rid of unnecessary dimensions\n",
    "    img = dapi_sort(img)\n",
    "    \n",
    "    # Do a z-sum projection\n",
    "    img = np.sum(img, 0)\n",
    "    \n",
    "    # Convert to float \n",
    "    img = (img.astype(float) - img.min()) / (img.max() - img.min())\n",
    "    \n",
    "    # Zoom if desired\n",
    "    if zoom != False:\n",
    "        return img[zoom]\n",
    "    \n",
    "    else:\n",
    "        return img\n",
    "    \n",
    "def im_list(img):\n",
    "    return bebi103.image.imshow(img,\n",
    "                               frame_height = 100,\n",
    "                               interpixel_distance = 0.65,\n",
    "                               length_units = 'µm')\n",
    "\n",
    "def im_splitter(filepath,\n",
    "               crop_size = 5000,\n",
    "               split_size = 1000):\n",
    "    '''Imports a large image and splits it into an array of sub-images'''\n",
    "    img = image_reducer(filepath, np.s_[:crop_size, :crop_size])\n",
    "    \n",
    "    init_array = np.arange(0, crop_size + split_size, split_size)\n",
    "    \n",
    "    seg_array = [np.s_[init_array[i]:init_array[i+1]] for i in range(len(init_array)-1)]\n",
    "    \n",
    "    seg_all = []\n",
    "\n",
    "    for i in seg_array:\n",
    "        for j in seg_array:\n",
    "            seg_all.append(np.s_[i,j])\n",
    "            \n",
    "    return [img[i] for i in seg_all] "
   ]
  },
  {
   "cell_type": "code",
   "execution_count": null,
   "metadata": {},
   "outputs": [],
   "source": [
    "im3_ls = im_splitter('20.02.15_DAPI-seg-3.czi')\n",
    "\n",
    "im3_ls[0].shape"
   ]
  },
  {
   "cell_type": "code",
   "execution_count": null,
   "metadata": {},
   "outputs": [],
   "source": [
    "hv.Image(im3_ls[10]\n",
    ").opts(cmap='viridis')"
   ]
  },
  {
   "cell_type": "code",
   "execution_count": null,
   "metadata": {},
   "outputs": [],
   "source": [
    "ls = np.arange(0, 2000, 500)\n",
    "\n",
    "ls_all = [np.s_[ls[i]:ls[i+1]] for i in range(len(ls)-1)]\n",
    "\n",
    "ls"
   ]
  },
  {
   "cell_type": "code",
   "execution_count": null,
   "metadata": {},
   "outputs": [],
   "source": [
    "ls_comp = []\n",
    "\n",
    "for i in ls_all:\n",
    "    for j in ls_all:\n",
    "        ls_comp.append(np.s_[i,j])\n",
    "        \n",
    "len(ls_comp)"
   ]
  },
  {
   "cell_type": "code",
   "execution_count": null,
   "metadata": {},
   "outputs": [],
   "source": [
    "im_split = [im1[i] for i in ls_comp]\n",
    "\n",
    "im_split[0].shape"
   ]
  },
  {
   "cell_type": "code",
   "execution_count": null,
   "metadata": {},
   "outputs": [],
   "source": [
    "im_sublist = [im_list(i) for i in im_split]"
   ]
  },
  {
   "cell_type": "code",
   "execution_count": null,
   "metadata": {},
   "outputs": [],
   "source": [
    "len(im_sublist)"
   ]
  },
  {
   "cell_type": "code",
   "execution_count": null,
   "metadata": {},
   "outputs": [],
   "source": [
    "bokeh.io.show(bokeh.layouts.gridplot(im_sublist, ncols = 3))"
   ]
  },
  {
   "cell_type": "code",
   "execution_count": null,
   "metadata": {},
   "outputs": [],
   "source": []
  }
 ],
 "metadata": {
  "kernelspec": {
   "display_name": "Python 3",
   "language": "python",
   "name": "python3"
  },
  "language_info": {
   "codemirror_mode": {
    "name": "ipython",
    "version": 3
   },
   "file_extension": ".py",
   "mimetype": "text/x-python",
   "name": "python",
   "nbconvert_exporter": "python",
   "pygments_lexer": "ipython3",
   "version": "3.7.4"
  }
 },
 "nbformat": 4,
 "nbformat_minor": 4
}
