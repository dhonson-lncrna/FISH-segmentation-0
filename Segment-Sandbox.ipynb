{
 "cells": [
  {
   "cell_type": "code",
   "execution_count": null,
   "metadata": {},
   "outputs": [],
   "source": [
    "import czifile\n",
    "import numpy as np\n",
    "\n",
    "import skimage.io\n",
    "import skimage.filters\n",
    "import skimage.feature\n",
    "import skimage.morphology\n",
    "\n",
    "import scipy\n",
    "\n",
    "import bebi103\n",
    "\n",
    "import holoviews as hv\n",
    "hv.extension('bokeh')\n",
    "import colorcet\n",
    "\n",
    "import bokeh.io\n",
    "bokeh.io.output_notebook()"
   ]
  },
  {
   "cell_type": "code",
   "execution_count": null,
   "metadata": {},
   "outputs": [],
   "source": [
    "def show_two_ims(\n",
    "    im_1,\n",
    "    im_2,\n",
    "    titles=[None, None],\n",
    "    interpixel_distances=[0.13, 0.13],\n",
    "    cmap=None,\n",
    "):\n",
    "    \"\"\"Convenient function for showing two images side by side.\"\"\"\n",
    "    p_1 = bebi103.image.imshow(\n",
    "        im_1,\n",
    "        frame_height=200,\n",
    "        title=titles[0],\n",
    "        cmap=cmap,\n",
    "        interpixel_distance=interpixel_distances[0],\n",
    "        length_units=\"µm\",\n",
    "    )\n",
    "    p_2 = bebi103.image.imshow(\n",
    "        im_2,\n",
    "        frame_height=200,\n",
    "        title=titles[1],\n",
    "        cmap=cmap,\n",
    "        interpixel_distance=interpixel_distances[1],\n",
    "        length_units=\"µm\",\n",
    "    )\n",
    "    p_2.x_range = p_1.x_range\n",
    "    p_2.y_range = p_1.y_range\n",
    "\n",
    "    return bokeh.layouts.gridplot([p_1, p_2], ncols=2)\n",
    "\n",
    "def dapi_sort(image):\n",
    "    return image[0,0,0,0,:,:,:,0]\n",
    "\n",
    "def image_reducer(filepath, zoom):\n",
    "    img = czifile.imread(filepath)\n",
    "    img = dapi_sort(img)\n",
    "    img = np.sum(img, 0)\n",
    "    \n",
    "    return img[zoom]\n",
    "\n",
    "\n",
    "def zero_crossing_filter(im, thresh):\n",
    "    \"\"\"\n",
    "    Returns image with 1 if there is a zero crossing and 0 otherwise.\n",
    "\n",
    "    thresh is the the minimal value of the gradient, as computed by Sobel\n",
    "    filter, at crossing to count as a crossing.\n",
    "    \"\"\"\n",
    "    # Square structuring element\n",
    "    selem = skimage.morphology.square(3)\n",
    "\n",
    "    # Do max filter and min filter\n",
    "    im_max = scipy.ndimage.filters.maximum_filter(im, footprint=selem)\n",
    "    im_min = scipy.ndimage.filters.minimum_filter(im, footprint=selem)\n",
    "\n",
    "    # Compute gradients using Sobel filter\n",
    "    im_grad = skimage.filters.sobel(im)\n",
    "\n",
    "    # Return edges\n",
    "    return ( (  ((im >= 0) & (im_min < 0))\n",
    "              | ((im <= 0) & (im_max > 0)))\n",
    "            & (im_grad >= thresh) )\n",
    "        \n",
    "zoom1 = np.s_[1500:3000, :1500]"
   ]
  },
  {
   "cell_type": "code",
   "execution_count": null,
   "metadata": {},
   "outputs": [],
   "source": [
    "im1 = image_reducer('20.02.15_DAPI-seg-1.czi', zoom1)"
   ]
  },
  {
   "cell_type": "code",
   "execution_count": null,
   "metadata": {},
   "outputs": [],
   "source": [
    "im1.shape"
   ]
  },
  {
   "cell_type": "code",
   "execution_count": null,
   "metadata": {},
   "outputs": [],
   "source": [
    "hv.Image(im1\n",
    ").opts(\n",
    "    height = 500,\n",
    "    width = 500)"
   ]
  },
  {
   "cell_type": "code",
   "execution_count": null,
   "metadata": {},
   "outputs": [],
   "source": [
    "# Convert the uneven image to floating point\n",
    "im_float = im1 / im1.max()\n",
    "\n",
    "# Make the structuring element\n",
    "selem = skimage.morphology.square(25)\n",
    "\n",
    "# Perform the median filter\n",
    "im1_filt = skimage.filters.median(im_float, selem)"
   ]
  },
  {
   "cell_type": "code",
   "execution_count": null,
   "metadata": {},
   "outputs": [],
   "source": [
    "bokeh.io.show(show_two_ims(im1, im1_filt))"
   ]
  },
  {
   "cell_type": "markdown",
   "metadata": {},
   "source": [
    "p_2 = bebi103.image.imshow(\n",
    "    im1_filt,\n",
    "    cmap=colorcet.coolwarm,\n",
    "    frame_height=300,\n",
    "    interpixel_distance= 0.12,\n",
    "    length_units=\"µm\",\n",
    ")\n",
    "bokeh.io.show(p_2)"
   ]
  },
  {
   "cell_type": "code",
   "execution_count": null,
   "metadata": {},
   "outputs": [],
   "source": [
    "# Convert image to float\n",
    "im_float = (im1_filt.astype(float) - im1_filt.min()) / (im1_filt.max() - im1_filt.min())\n",
    "\n",
    "# Apply the Sobel filter to find the gradient\n",
    "im_grad = skimage.filters.sobel(im_float)\n",
    "\n",
    "# Look at gradient image\n",
    "#bokeh.io.show(\n",
    "#    show_two_ims(im_float, im_grad, titles=[\"original\", \"sobel filtered\"])\n",
    "#)"
   ]
  },
  {
   "cell_type": "code",
   "execution_count": null,
   "metadata": {},
   "outputs": [],
   "source": [
    "# Do Canny edge detection on image, use sigma = 1.4\n",
    "im_edge = skimage.feature.canny(im_float, 0.3)\n",
    "\n",
    "# Show the result\n",
    "bokeh.io.show(show_two_ims(im_float, im_edge, titles=[\"original\", \"edges\"]))"
   ]
  },
  {
   "cell_type": "code",
   "execution_count": null,
   "metadata": {},
   "outputs": [],
   "source": [
    "# Close the edge image\n",
    "selem = skimage.morphology.disk(15)\n",
    "im_edge_closed = skimage.morphology.binary_closing(im_edge, selem)\n",
    "\n",
    "# Fill these holes\n",
    "im_bw = scipy.ndimage.morphology.binary_fill_holes(im_edge_closed)\n",
    "\n",
    "# Check out results\n",
    "bokeh.io.show(\n",
    "    show_two_ims(im_float, im_bw, titles=[\"original\", \"segmented\"])\n",
    ")"
   ]
  }
 ],
 "metadata": {
  "kernelspec": {
   "display_name": "Python 3",
   "language": "python",
   "name": "python3"
  },
  "language_info": {
   "codemirror_mode": {
    "name": "ipython",
    "version": 3
   },
   "file_extension": ".py",
   "mimetype": "text/x-python",
   "name": "python",
   "nbconvert_exporter": "python",
   "pygments_lexer": "ipython3",
   "version": "3.7.4"
  }
 },
 "nbformat": 4,
 "nbformat_minor": 4
}
